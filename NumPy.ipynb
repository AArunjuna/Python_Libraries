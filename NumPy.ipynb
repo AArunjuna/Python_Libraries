{
  "nbformat": 4,
  "nbformat_minor": 0,
  "metadata": {
    "colab": {
      "provenance": [],
      "authorship_tag": "ABX9TyMHlfsY4eyH17IlhjSZMhAL",
      "include_colab_link": true
    },
    "kernelspec": {
      "name": "python3",
      "display_name": "Python 3"
    },
    "language_info": {
      "name": "python"
    }
  },
  "cells": [
    {
      "cell_type": "markdown",
      "metadata": {
        "id": "view-in-github",
        "colab_type": "text"
      },
      "source": [
        "<a href=\"https://colab.research.google.com/github/iamkishore0/Python_Libraries/blob/main/NumPy.ipynb\" target=\"_parent\"><img src=\"https://colab.research.google.com/assets/colab-badge.svg\" alt=\"Open In Colab\"/></a>"
      ]
    },
    {
      "cell_type": "code",
      "source": [
        "#Import numpy and name as np\n",
        "import numpy as np"
      ],
      "metadata": {
        "id": "tKeQPTa9Bybv"
      },
      "execution_count": 2,
      "outputs": []
    },
    {
      "cell_type": "code",
      "source": [
        "#Create a list and convert that to ndarray\n",
        "a = [1,2,3,4]\n",
        "print(type(a))\n",
        "\n",
        "b = np.array(a)\n",
        "type(b)"
      ],
      "metadata": {
        "colab": {
          "base_uri": "https://localhost:8080/"
        },
        "id": "RrsKs5MOGAPM",
        "outputId": "d0de3258-c36b-44f6-d67c-f3f642d3ff9f"
      },
      "execution_count": 4,
      "outputs": [
        {
          "output_type": "stream",
          "name": "stdout",
          "text": [
            "<class 'list'>\n"
          ]
        },
        {
          "output_type": "execute_result",
          "data": {
            "text/plain": [
              "numpy.ndarray"
            ]
          },
          "metadata": {},
          "execution_count": 4
        }
      ]
    },
    {
      "cell_type": "code",
      "source": [
        "#Create an ndarray and check dimention\n",
        "c = np.array([1,2,3])\n",
        "print(c)\n",
        "print(type(c))\n",
        "c.ndim"
      ],
      "metadata": {
        "colab": {
          "base_uri": "https://localhost:8080/"
        },
        "id": "Mb9_bFAMGaLa",
        "outputId": "48f2c43d-ce00-46b8-a49b-99580c20d1dd"
      },
      "execution_count": 7,
      "outputs": [
        {
          "output_type": "stream",
          "name": "stdout",
          "text": [
            "[1 2 3]\n",
            "<class 'numpy.ndarray'>\n"
          ]
        },
        {
          "output_type": "execute_result",
          "data": {
            "text/plain": [
              "1"
            ]
          },
          "metadata": {},
          "execution_count": 7
        }
      ]
    },
    {
      "cell_type": "code",
      "source": [
        "#Multi-Dimentional arrays \n",
        "d = np.array([[1,2,3],[4,5,6]])\n",
        "e = np.array([[[1,2,3],[3,4,5],[6,7,8]]])\n",
        "\n",
        "print(d.ndim)\n",
        "print(e.ndim)"
      ],
      "metadata": {
        "colab": {
          "base_uri": "https://localhost:8080/"
        },
        "id": "m4HNmxoDG20P",
        "outputId": "619b68a9-345c-4d76-d85f-43f936f6c7f0"
      },
      "execution_count": 9,
      "outputs": [
        {
          "output_type": "stream",
          "name": "stdout",
          "text": [
            "2\n",
            "3\n"
          ]
        }
      ]
    },
    {
      "cell_type": "code",
      "source": [
        "#Shape of arrays\n",
        "f = np.array([[1,2],[3,4]])\n",
        "g = np.array([[[1,2],[3,4],[5,6]]])\n",
        "h = np.array([[1,2,3],[2,3,4]])\n",
        "i = np.array([[[[1,2,3,4,5],[4,5,6,7,8],[7,8,9,1,2],[2,3,4,5,6]]]])\n",
        "\n",
        "print(f.shape)\n",
        "print(g.shape)\n",
        "print(h.shape)\n",
        "print(i.shape)"
      ],
      "metadata": {
        "colab": {
          "base_uri": "https://localhost:8080/"
        },
        "id": "C7-ymGySH1Ej",
        "outputId": "44324094-8b70-476c-d8a9-fd5bc502c143"
      },
      "execution_count": 14,
      "outputs": [
        {
          "output_type": "stream",
          "name": "stdout",
          "text": [
            "(2, 2)\n",
            "(1, 3, 2)\n",
            "(2, 3)\n",
            "(1, 1, 4, 5)\n"
          ]
        }
      ]
    },
    {
      "cell_type": "code",
      "source": [
        "#Data type\n",
        "f.dtype"
      ],
      "metadata": {
        "colab": {
          "base_uri": "https://localhost:8080/"
        },
        "id": "X87ZnHmAI3FU",
        "outputId": "dc724dfd-2e26-4467-905a-2e995c66299b"
      },
      "execution_count": 12,
      "outputs": [
        {
          "output_type": "execute_result",
          "data": {
            "text/plain": [
              "dtype('int64')"
            ]
          },
          "metadata": {},
          "execution_count": 12
        }
      ]
    },
    {
      "cell_type": "code",
      "source": [
        "#Slicing\n",
        "a = np.array([[1,2,3,4,5,6,7],[8,9,10,11,12,13,14]])\n",
        "\n",
        "#Access 6\n",
        "print(a[0, 5])\n",
        "#Access 10\n",
        "print(a[1, 2])"
      ],
      "metadata": {
        "colab": {
          "base_uri": "https://localhost:8080/"
        },
        "id": "YUYRGYyMI8mX",
        "outputId": "d711199c-acdc-4745-d0f5-5dfd52d471c6"
      },
      "execution_count": 18,
      "outputs": [
        {
          "output_type": "stream",
          "name": "stdout",
          "text": [
            "6\n",
            "10\n"
          ]
        }
      ]
    },
    {
      "cell_type": "code",
      "source": [
        "#Manipulation\n",
        "a = np.array([[1,2,3,4,5,6,7],[8,9,10,11,12,13,14]])\n",
        "print(a)\n",
        "\n",
        "#replace 7 with 9\n",
        "a[0, 6] = 9\n",
        "\n",
        "print(a)"
      ],
      "metadata": {
        "colab": {
          "base_uri": "https://localhost:8080/"
        },
        "id": "lg-9H43OLweM",
        "outputId": "6497d101-ed27-448d-906f-f0dac609e51d"
      },
      "execution_count": 20,
      "outputs": [
        {
          "output_type": "stream",
          "name": "stdout",
          "text": [
            "[[ 1  2  3  4  5  6  7]\n",
            " [ 8  9 10 11 12 13 14]]\n",
            "[[ 1  2  3  4  5  6  9]\n",
            " [ 8  9 10 11 12 13 14]]\n"
          ]
        }
      ]
    },
    {
      "cell_type": "code",
      "source": [
        "#Matrix - convert an array to matrix\n",
        "\n",
        "a = np.array([1,2])\n",
        "print(type(a))\n",
        "\n",
        "b = np.matrix(a)\n",
        "print(type(b))"
      ],
      "metadata": {
        "colab": {
          "base_uri": "https://localhost:8080/"
        },
        "id": "iiZvLDfcMjV6",
        "outputId": "6b100dc8-aca1-4f89-bc07-96eb4f01493d"
      },
      "execution_count": 21,
      "outputs": [
        {
          "output_type": "stream",
          "name": "stdout",
          "text": [
            "<class 'numpy.ndarray'>\n",
            "<class 'numpy.matrix'>\n"
          ]
        }
      ]
    },
    {
      "cell_type": "code",
      "source": [
        "#Maths with arrays\n",
        "x = np.array([1,2,3,4,5])\n",
        "\n",
        "print(x+2)\n",
        "print(x-1)\n",
        "print(x*2)\n",
        "print(x/2)\n",
        "print(np.cos(x))\n",
        "print(np.tan(x))"
      ],
      "metadata": {
        "colab": {
          "base_uri": "https://localhost:8080/"
        },
        "id": "gxa7K2UhM1gG",
        "outputId": "853a5c68-92b5-4955-9a5d-3addd6f57438"
      },
      "execution_count": 27,
      "outputs": [
        {
          "output_type": "stream",
          "name": "stdout",
          "text": [
            "[3 4 5 6 7]\n",
            "[0 1 2 3 4]\n",
            "[ 2  4  6  8 10]\n",
            "[0.5 1.  1.5 2.  2.5]\n",
            "[ 0.54030231 -0.41614684 -0.9899925  -0.65364362  0.28366219]\n",
            "[ 1.55740772 -2.18503986 -0.14254654  1.15782128 -3.38051501]\n"
          ]
        }
      ]
    },
    {
      "cell_type": "code",
      "source": [
        "#DataType mapping and memory - bitsize\n",
        "my_arr = np.array([(1,2),(3,4)], dtype=[('a', '<i1'),('b','<i8')])\n",
        "\n",
        "a = (my_arr[0][0])\n",
        "b = (my_arr[0][1])\n",
        "c = (my_arr[1][0])\n",
        "d = (my_arr[1][1])\n",
        "\n",
        "print(a)\n",
        "print(b)\n",
        "print(c)\n",
        "print(d)\n",
        "\n",
        "print(type(a))\n",
        "print(type(b))\n",
        "print(type(c))\n",
        "print(type(d))"
      ],
      "metadata": {
        "colab": {
          "base_uri": "https://localhost:8080/"
        },
        "id": "mfU1tD23Oory",
        "outputId": "2fdb6723-1451-49db-ff83-323ce8a94555"
      },
      "execution_count": 28,
      "outputs": [
        {
          "output_type": "stream",
          "name": "stdout",
          "text": [
            "1\n",
            "2\n",
            "3\n",
            "4\n",
            "<class 'numpy.int8'>\n",
            "<class 'numpy.int64'>\n",
            "<class 'numpy.int8'>\n",
            "<class 'numpy.int64'>\n"
          ]
        }
      ]
    }
  ]
}